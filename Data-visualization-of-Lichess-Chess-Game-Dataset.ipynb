{
 "cells": [
  {
   "cell_type": "code",
   "execution_count": 102,
   "metadata": {},
   "outputs": [],
   "source": [
    "%matplotlib inline \n",
    "from zipfile import ZipFile\n",
    "import pandas as pd\n",
    "import seaborn as sns\n",
    "import matplotlib.pyplot as plt\n",
    "from collections.abc import Iterable"
   ]
  },
  {
   "cell_type": "code",
   "execution_count": 103,
   "metadata": {},
   "outputs": [],
   "source": [
    "def isIterable(x):\n",
    "    if isinstance(x, Iterable):\n",
    "        return True\n",
    "    else:\n",
    "        return False\n",
    "\n",
    "\n",
    "def allToList(r):\n",
    "    i=0\n",
    "    for x in r:\n",
    "        if not isIterable(x):\n",
    "            r[i] = [x]\n",
    "        i+=1\n",
    "    return r    \n"
   ]
  },
  {
   "cell_type": "code",
   "execution_count": 104,
   "metadata": {},
   "outputs": [],
   "source": [
    "def to_df():\n",
    "    df = pd.read_csv(\"archive/games.csv\")\n",
    "    df.drop([\"created_at\",\"rated\",\"last_move_at\",\"opening_eco\",\"opening_ply\"],axis=1,inplace=True)\n",
    "    return df"
   ]
  },
  {
   "cell_type": "code",
   "execution_count": 105,
   "metadata": {},
   "outputs": [],
   "source": [
    "\n",
    "def TopOpeningsByCount(top):\n",
    "    df = to_df()\n",
    "    countByOpening = df.groupby(\"opening_name\")[\"id\"].count()\n",
    "    countByOpening.index = list([x.split()[0] for x in countByOpening.index])\n",
    "    r = allToList([countByOpening.loc[x] for x in pd.unique(countByOpening.index)])\n",
    "    idx = pd.unique(countByOpening.index)\n",
    "    \n",
    "    countByOpening = pd.Series([sum(l) for l in r],index=idx)\n",
    "    countByOpening.sort_values(ascending=False,inplace=True)\n",
    "    \n",
    "    if top == -1:\n",
    "        return countByOpening\n",
    "    else:\n",
    "        countByOpening = countByOpening[:top]\n",
    "    return countByOpening\n"
   ]
  },
  {
   "cell_type": "code",
   "execution_count": 106,
   "metadata": {
    "scrolled": true
   },
   "outputs": [],
   "source": [
    "def TopByPercent(top):\n",
    "    openings = TopOpeningsByCount(-1)\n",
    "    totalGames = openings.sum()\n",
    "    \n",
    "    opening_percents  = openings.apply(lambda x: x/totalGames)\n",
    "    if top == -1:\n",
    "        return opening_percents\n",
    "    else:    \n",
    "        return opening_percents[:top]"
   ]
  },
  {
   "cell_type": "code",
   "execution_count": 107,
   "metadata": {},
   "outputs": [],
   "source": [
    "def plot_percents():\n",
    "    produce_Series()\n",
    "    top10OpeningsPercent2  = top10percent2.apply(lambda x: x/totalGames)\n",
    "    ax = sns.barplot(x=top10percent2.index, y=top10percent2)\n",
    "    # sns.set_context(\"notebook\", font_scale=0.3)\n",
    "    ax.set_xticklabels(ax.get_xticklabels(), rotation=40, ha=\"right\", fontsize=7)\n",
    "    ax.set(xlabel='Opening name', ylabel='Total count')\n",
    "    plt.tight_layout()\n",
    "#     plt.show()\n",
    "    \n",
    "    \n",
    "    "
   ]
  },
  {
   "cell_type": "code",
   "execution_count": 113,
   "metadata": {},
   "outputs": [],
   "source": [
    "def plot_totals(top):\n",
    "    top10Openings = TopOpeningsByCount(top)\n",
    "    ax = sns.barplot(x=top10Openings.index, y=top10Openings)\n",
    "    ax.set_xticklabels(ax.get_xticklabels(), rotation=40, ha=\"right\", fontsize=7)\n",
    "    ax.set(xlabel='Opening name', ylabel='Total count')\n",
    "    plt.tight_layout()\n",
    "    plt.show()"
   ]
  },
  {
   "cell_type": "code",
   "execution_count": 108,
   "metadata": {},
   "outputs": [],
   "source": [
    "def plot_percents(top):\n",
    "    topOpenings = TopByPercent(top)\n",
    "    ax = sns.barplot(x=topOpenings.index, y=topOpenings)\n",
    "    ax.set_xticklabels(ax.get_xticklabels(), rotation=40, ha=\"right\", fontsize=7)\n",
    "    ax.set(xlabel='Opening name', ylabel= '% of games played')\n",
    "    plt.tight_layout()\n",
    "    plt.show()"
   ]
  },
  {
   "cell_type": "code",
   "execution_count": 109,
   "metadata": {},
   "outputs": [],
   "source": [
    "def get_total_and_percent_by_name(name):\n",
    "    name = name.split()[0]\n",
    "    count = TopOpeningsByCount(-1)[name]\n",
    "    percent = TopByPercent(-1)[name]\n",
    "    return (count,percent)"
   ]
  },
  {
   "cell_type": "code",
   "execution_count": 116,
   "metadata": {},
   "outputs": [
    {
     "data": {
      "image/png": "[encoded data removed]",
      "text/plain": [
       "<Figure size 432x288 with 1 Axes>"
      ]
     },
     "metadata": {
      "needs_background": "light"
     },
     "output_type": "display_data"
    },
    {
     "data": {
      "image/png": "[encoded data removed]",
      "text/plain": [
       "<Figure size 432x288 with 1 Axes>"
      ]
     },
     "metadata": {
      "needs_background": "light"
     },
     "output_type": "display_data"
    },
    {
     "data": {
      "text/plain": [
       "(2632, 0.1312194635556885)"
      ]
     },
     "execution_count": 116,
     "metadata": {},
     "output_type": "execute_result"
    }
   ],
   "source": [
    "plot_percents(10)\n",
    "plot_totals(10)\n",
    "get_total_and_percent_by_name(\"Sicilian\")\n"
   ]
  }
 ],
 "metadata": {
  "kernelspec": {
   "display_name": "Python 3",
   "language": "python",
   "name": "python3"
  },
  "language_info": {
   "codemirror_mode": {
    "name": "ipython",
    "version": 3
   },
   "file_extension": ".py",
   "mimetype": "text/x-python",
   "name": "python",
   "nbconvert_exporter": "python",
   "pygments_lexer": "ipython3",
   "version": "3.7.6"
  }
 },
 "nbformat": 4,
 "nbformat_minor": 4
}
